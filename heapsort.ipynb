{
 "cells": [
  {
   "cell_type": "markdown",
   "metadata": {},
   "source": [
    "# Heap Sort\n",
    "\n",
    "***"
   ]
  },
  {
   "cell_type": "markdown",
   "metadata": {},
   "source": [
    "## Lists in python\n",
    "\n",
    "***"
   ]
  },
  {
   "cell_type": "code",
   "execution_count": 1,
   "metadata": {},
   "outputs": [],
   "source": [
    "# Lists in python can be created with square brackets\n",
    "L = [1, 2, 3, \"Hello, world\", None, True]"
   ]
  },
  {
   "cell_type": "code",
   "execution_count": 2,
   "metadata": {},
   "outputs": [
    {
     "data": {
      "text/plain": [
       "True"
      ]
     },
     "execution_count": 2,
     "metadata": {},
     "output_type": "execute_result"
    }
   ],
   "source": [
    "# They are zero indexed as usual\n",
    "L[5]"
   ]
  },
  {
   "cell_type": "code",
   "execution_count": 3,
   "metadata": {},
   "outputs": [
    {
     "data": {
      "text/plain": [
       "[1, 2, 3]"
      ]
     },
     "execution_count": 3,
     "metadata": {},
     "output_type": "execute_result"
    }
   ],
   "source": [
    "# Create lists with the list() function\n",
    "list({1, 2, 3, 3})"
   ]
  },
  {
   "cell_type": "code",
   "execution_count": 4,
   "metadata": {},
   "outputs": [
    {
     "data": {
      "text/plain": [
       "True"
      ]
     },
     "execution_count": 4,
     "metadata": {},
     "output_type": "execute_result"
    }
   ],
   "source": [
    "# Using negative indexes - gives last element\n",
    "L[-1]"
   ]
  },
  {
   "cell_type": "code",
   "execution_count": 5,
   "metadata": {},
   "outputs": [
    {
     "data": {
      "text/plain": [
       "'Hello, world'"
      ]
     },
     "execution_count": 5,
     "metadata": {},
     "output_type": "execute_result"
    }
   ],
   "source": [
    "# Works back the way - third last\n",
    "L[-3]"
   ]
  },
  {
   "cell_type": "code",
   "execution_count": 6,
   "metadata": {},
   "outputs": [
    {
     "data": {
      "text/plain": [
       "[0, 2, 4, 6, 8, 10, 12, 14, 16, 18]"
      ]
     },
     "execution_count": 6,
     "metadata": {},
     "output_type": "execute_result"
    }
   ],
   "source": [
    "# in built functions for creating iterables\n",
    "list(range(0, 20, 2))"
   ]
  },
  {
   "cell_type": "code",
   "execution_count": 7,
   "metadata": {},
   "outputs": [
    {
     "data": {
      "text/plain": [
       "[0, 1, 2, 3, 4, 5, 6, 7, 8, 9, 10, 11, 12, 13, 14, 15, 16, 17, 18, 19]"
      ]
     },
     "execution_count": 7,
     "metadata": {},
     "output_type": "execute_result"
    }
   ],
   "source": [
    "L = list(range(20))\n",
    "L"
   ]
  },
  {
   "cell_type": "code",
   "execution_count": 8,
   "metadata": {},
   "outputs": [
    {
     "data": {
      "text/plain": [
       "[1, 3, 5, 7, 9]"
      ]
     },
     "execution_count": 8,
     "metadata": {},
     "output_type": "execute_result"
    }
   ],
   "source": [
    "# List slicing - first num starting index second non inclusive finish number third num is jump number\n",
    "L[1:10:2]"
   ]
  },
  {
   "cell_type": "code",
   "execution_count": 9,
   "metadata": {},
   "outputs": [
    {
     "data": {
      "text/plain": [
       "[5, 6, 7, 8, 9]"
      ]
     },
     "execution_count": 9,
     "metadata": {},
     "output_type": "execute_result"
    }
   ],
   "source": [
    "# List slicing - first num starting index second non inclusive finish number third num is assumed 1\n",
    "L[5:10]"
   ]
  },
  {
   "cell_type": "code",
   "execution_count": 10,
   "metadata": {},
   "outputs": [
    {
     "data": {
      "text/plain": [
       "[5, 6, 7, 8, 9, 10, 11, 12, 13, 14, 15, 16, 17, 18, 19]"
      ]
     },
     "execution_count": 10,
     "metadata": {},
     "output_type": "execute_result"
    }
   ],
   "source": [
    "# List slicing - one number with : after gives that number up to top of list\n",
    "L[5:]"
   ]
  },
  {
   "cell_type": "code",
   "execution_count": 11,
   "metadata": {},
   "outputs": [
    {
     "data": {
      "text/plain": [
       "[0, 1, 2, 3, 4]"
      ]
     },
     "execution_count": 11,
     "metadata": {},
     "output_type": "execute_result"
    }
   ],
   "source": [
    "# List slicing - one number with : before gives everything before that number in the list\n",
    "L[:5]"
   ]
  },
  {
   "cell_type": "code",
   "execution_count": 12,
   "metadata": {},
   "outputs": [
    {
     "data": {
      "text/plain": [
       "[5, 6, 7, 8, 9, 10, 11, 12, 13, 14, 15, 16, 17, 18, 19, 0, 1, 2, 3, 4]"
      ]
     },
     "execution_count": 12,
     "metadata": {},
     "output_type": "execute_result"
    }
   ],
   "source": [
    "# Quick way to cycle list to the left - 0 falls of the left and goes to the right\n",
    "i = 5\n",
    "L[i:] + L[:i]"
   ]
  },
  {
   "cell_type": "code",
   "execution_count": 13,
   "metadata": {},
   "outputs": [],
   "source": [
    "# Tuples - like lists but immuteable can't be changed\n",
    "T = (1, 2, 3, 4)"
   ]
  },
  {
   "cell_type": "code",
   "execution_count": 14,
   "metadata": {},
   "outputs": [
    {
     "data": {
      "text/plain": [
       "1"
      ]
     },
     "execution_count": 14,
     "metadata": {},
     "output_type": "execute_result"
    }
   ],
   "source": [
    "# select elements\n",
    "T[0]"
   ]
  },
  {
   "cell_type": "code",
   "execution_count": 15,
   "metadata": {},
   "outputs": [
    {
     "data": {
      "text/plain": [
       "(4,)"
      ]
     },
     "execution_count": 15,
     "metadata": {},
     "output_type": "execute_result"
    }
   ],
   "source": [
    "# slice list\n",
    "T[3:]"
   ]
  },
  {
   "cell_type": "code",
   "execution_count": 16,
   "metadata": {},
   "outputs": [],
   "source": [
    "# can't assign - would give error\n",
    "# T[2] = 100"
   ]
  },
  {
   "cell_type": "code",
   "execution_count": 17,
   "metadata": {},
   "outputs": [
    {
     "data": {
      "text/plain": [
       "(1, 2, 3, 4)"
      ]
     },
     "execution_count": 17,
     "metadata": {},
     "output_type": "execute_result"
    }
   ],
   "source": [
    "# Tuples are created with commas, as apposed to round brackets\n",
    "T = 1, 2, 3, 4\n",
    "T"
   ]
  },
  {
   "cell_type": "code",
   "execution_count": 18,
   "metadata": {},
   "outputs": [],
   "source": [
    "# you can use tuples for assignment\n",
    "a, b = 3, 4"
   ]
  },
  {
   "cell_type": "code",
   "execution_count": 19,
   "metadata": {},
   "outputs": [
    {
     "data": {
      "text/plain": [
       "3"
      ]
     },
     "execution_count": 19,
     "metadata": {},
     "output_type": "execute_result"
    }
   ],
   "source": [
    "a"
   ]
  },
  {
   "cell_type": "code",
   "execution_count": 20,
   "metadata": {},
   "outputs": [
    {
     "data": {
      "text/plain": [
       "4"
      ]
     },
     "execution_count": 20,
     "metadata": {},
     "output_type": "execute_result"
    }
   ],
   "source": [
    "b"
   ]
  },
  {
   "cell_type": "code",
   "execution_count": 21,
   "metadata": {},
   "outputs": [],
   "source": [
    "# nice trick for swapping two values\n",
    "a, b = b, a"
   ]
  },
  {
   "cell_type": "code",
   "execution_count": 22,
   "metadata": {},
   "outputs": [
    {
     "data": {
      "text/plain": [
       "4"
      ]
     },
     "execution_count": 22,
     "metadata": {},
     "output_type": "execute_result"
    }
   ],
   "source": [
    "a"
   ]
  },
  {
   "cell_type": "code",
   "execution_count": 23,
   "metadata": {},
   "outputs": [
    {
     "data": {
      "text/plain": [
       "3"
      ]
     },
     "execution_count": 23,
     "metadata": {},
     "output_type": "execute_result"
    }
   ],
   "source": [
    "b"
   ]
  },
  {
   "cell_type": "code",
   "execution_count": 24,
   "metadata": {},
   "outputs": [
    {
     "data": {
      "text/plain": [
       "[0, 1, 2, 3, 4, 5, 6, 7, 8, 9]"
      ]
     },
     "execution_count": 24,
     "metadata": {},
     "output_type": "execute_result"
    }
   ],
   "source": [
    "# List of ints\n",
    "L = list(range(10))\n",
    "L"
   ]
  },
  {
   "cell_type": "code",
   "execution_count": 25,
   "metadata": {},
   "outputs": [
    {
     "data": {
      "text/plain": [
       "[0, 1, 8, 27, 64, 125, 216, 343, 512, 729]"
      ]
     },
     "execution_count": 25,
     "metadata": {},
     "output_type": "execute_result"
    }
   ],
   "source": [
    "# list comprehension - mini for loop built in to cube list nums \n",
    "[i**3 for i in L]"
   ]
  },
  {
   "cell_type": "code",
   "execution_count": 26,
   "metadata": {},
   "outputs": [
    {
     "data": {
      "text/plain": [
       "[9, 8, 7, 6, 5, 4, 3, 2, 1, 0]"
      ]
     },
     "execution_count": 26,
     "metadata": {},
     "output_type": "execute_result"
    }
   ],
   "source": [
    "# curve ball - reverse list\n",
    "L[::-1]"
   ]
  },
  {
   "cell_type": "markdown",
   "metadata": {},
   "source": [
    "<br>\n",
    "\n",
    "## Bubble Sort\n",
    "\n",
    "***"
   ]
  },
  {
   "cell_type": "code",
   "execution_count": 27,
   "metadata": {},
   "outputs": [],
   "source": [
    "# importing a module from the standard library\n",
    "import random"
   ]
  },
  {
   "cell_type": "code",
   "execution_count": 28,
   "metadata": {},
   "outputs": [
    {
     "data": {
      "text/plain": [
       "[1, 2, 3, 4, 5, 6, 7, 8, 9, 10]"
      ]
     },
     "execution_count": 28,
     "metadata": {},
     "output_type": "execute_result"
    }
   ],
   "source": [
    "# create a list of integers\n",
    "L = list(range(1, 11))\n",
    "L"
   ]
  },
  {
   "cell_type": "code",
   "execution_count": 29,
   "metadata": {},
   "outputs": [],
   "source": [
    "# shuffle the list\n",
    "random.shuffle(L)"
   ]
  },
  {
   "cell_type": "code",
   "execution_count": 30,
   "metadata": {},
   "outputs": [
    {
     "data": {
      "text/plain": [
       "[1, 9, 2, 8, 4, 7, 10, 5, 3, 6]"
      ]
     },
     "execution_count": 30,
     "metadata": {},
     "output_type": "execute_result"
    }
   ],
   "source": [
    "# The list is shuffled\n",
    "L"
   ]
  },
  {
   "cell_type": "code",
   "execution_count": 31,
   "metadata": {},
   "outputs": [],
   "source": [
    "# Bubble sort - need to take one away from length as there are only nine comparisons\n",
    "\n",
    "# keep track of num of comparisons\n",
    "no_comparisons = 0\n",
    "\n",
    "# repeatedly bubbles biggest element up to the top\n",
    "for j in range(len(L) - 1):\n",
    "    # keep track of any swaps\n",
    "    swapped = False\n",
    "    # compare all elements that are side by side\n",
    "    for i in range(len(L) - 1):\n",
    "        # compare the ith element with the (i+1)th\n",
    "        if L[i] > L[i+1]:\n",
    "            # Swap the elements\n",
    "            L[i], L[i+1] = L[i+1], L[i]\n",
    "            # keep track of the swap\n",
    "            swapped = True\n",
    "        # add a comparison\n",
    "        no_comparisons = no_comparisons + 1\n",
    "    # quit if no swaps\n",
    "    if not swapped:\n",
    "        break"
   ]
  },
  {
   "cell_type": "code",
   "execution_count": 32,
   "metadata": {},
   "outputs": [
    {
     "data": {
      "text/plain": [
       "[1, 2, 3, 4, 5, 6, 7, 8, 9, 10]"
      ]
     },
     "execution_count": 32,
     "metadata": {},
     "output_type": "execute_result"
    }
   ],
   "source": [
    "# sorted list\n",
    "L"
   ]
  },
  {
   "cell_type": "code",
   "execution_count": 33,
   "metadata": {},
   "outputs": [
    {
     "data": {
      "text/plain": [
       "63"
      ]
     },
     "execution_count": 33,
     "metadata": {},
     "output_type": "execute_result"
    }
   ],
   "source": [
    "no_comparisons"
   ]
  },
  {
   "cell_type": "code",
   "execution_count": 34,
   "metadata": {},
   "outputs": [],
   "source": [
    "# Bubble sort as a function- need to take one away from length as there are only nine comparisons\n",
    "\n",
    "def bubble_sort(L):\n",
    "    # keep track of num of comparisons\n",
    "    no_comparisons = 0\n",
    "\n",
    "    # repeatedly bubbles biggest element up to the top\n",
    "    for j in range(len(L) - 1):\n",
    "        # keep track of any swaps\n",
    "        swapped = False\n",
    "        # compare all elements that are side by side\n",
    "        for i in range(len(L) - 1 - j):\n",
    "            # compare the ith element with the (i+1)th\n",
    "            if L[i] > L[i+1]:\n",
    "                # Swap the elements\n",
    "                L[i], L[i+1] = L[i+1], L[i]\n",
    "                # keep track of the swap\n",
    "                swapped = True\n",
    "            # add a comparison\n",
    "            no_comparisons = no_comparisons + 1\n",
    "        # quit if no swaps\n",
    "        if not swapped:\n",
    "            break\n",
    "    # return number of comparisons made\n",
    "    return no_comparisons"
   ]
  },
  {
   "cell_type": "code",
   "execution_count": 35,
   "metadata": {},
   "outputs": [
    {
     "data": {
      "text/plain": [
       "[6, 7, 5, 2, 4, 8, 9, 10, 1, 3]"
      ]
     },
     "execution_count": 35,
     "metadata": {},
     "output_type": "execute_result"
    }
   ],
   "source": [
    "# Create a list \n",
    "L = list(range(1, 11))\n",
    "\n",
    "# Shuffle it\n",
    "random.shuffle(L)\n",
    "\n",
    "# look at it\n",
    "L"
   ]
  },
  {
   "cell_type": "code",
   "execution_count": 36,
   "metadata": {},
   "outputs": [
    {
     "data": {
      "text/plain": [
       "45"
      ]
     },
     "execution_count": 36,
     "metadata": {},
     "output_type": "execute_result"
    }
   ],
   "source": [
    "# function works on L in place\n",
    "bubble_sort(L)"
   ]
  },
  {
   "cell_type": "code",
   "execution_count": 37,
   "metadata": {},
   "outputs": [
    {
     "data": {
      "text/plain": [
       "[1, 2, 3, 4, 5, 6, 7, 8, 9, 10]"
      ]
     },
     "execution_count": 37,
     "metadata": {},
     "output_type": "execute_result"
    }
   ],
   "source": [
    "L"
   ]
  },
  {
   "cell_type": "code",
   "execution_count": 38,
   "metadata": {},
   "outputs": [
    {
     "data": {
      "text/plain": [
       "9"
      ]
     },
     "execution_count": 38,
     "metadata": {},
     "output_type": "execute_result"
    }
   ],
   "source": [
    "# once the list is sorted - bubble sort is O(n)\n",
    "bubble_sort(L)"
   ]
  },
  {
   "cell_type": "code",
   "execution_count": 39,
   "metadata": {},
   "outputs": [
    {
     "data": {
      "text/plain": [
       "[10, 9, 8, 7, 6, 5, 4, 3, 2, 1]"
      ]
     },
     "execution_count": 39,
     "metadata": {},
     "output_type": "execute_result"
    }
   ],
   "source": [
    "# the worst case for bubble sort - reversed list\n",
    "L[::-1]"
   ]
  },
  {
   "cell_type": "code",
   "execution_count": 40,
   "metadata": {},
   "outputs": [
    {
     "data": {
      "text/plain": [
       "45"
      ]
     },
     "execution_count": 40,
     "metadata": {},
     "output_type": "execute_result"
    }
   ],
   "source": [
    "# this is still O(n^2)\n",
    "bubble_sort(L[::-1])"
   ]
  },
  {
   "cell_type": "markdown",
   "metadata": {},
   "source": [
    "<br>\n",
    "\n",
    "## Heap Sort\n",
    "\n",
    "***"
   ]
  },
  {
   "cell_type": "markdown",
   "metadata": {},
   "source": [
    "#### Transplanted from wikipedia (heapsort page)\n",
    "***\n",
    "https://en.wikipedia.org/wiki/Heapsort"
   ]
  },
  {
   "cell_type": "markdown",
   "metadata": {},
   "source": [
    "<img src=\"https://upload.wikimedia.org/wikipedia/commons/3/38/Max-Heap.svg\" alt=\"tree rep\" width=\"400\" align=\"left\"/>"
   ]
  },
  {
   "cell_type": "code",
   "execution_count": 41,
   "metadata": {},
   "outputs": [],
   "source": [
    "def heapify(a, count):\n",
    "    start = (count - 2) // 2\n",
    "    \n",
    "    while start >= 0:\n",
    "        siftDown(a, start, count - 1)\n",
    "        start = start - 1"
   ]
  },
  {
   "cell_type": "code",
   "execution_count": 42,
   "metadata": {},
   "outputs": [],
   "source": [
    "def siftDown(a, start, end):\n",
    "    root = start\n",
    "    \n",
    "    while (2 * root + 1) <= end:\n",
    "        child = (2 * root + 1)\n",
    "        swap = root\n",
    "        \n",
    "        if a[swap] < a[child]:\n",
    "            swap = child\n",
    "        if child + 1 <= end and a[swap] < a[child + 1]:\n",
    "            swap = child + 1\n",
    "        if swap == root:\n",
    "            return\n",
    "        else:\n",
    "            a[root], a[swap] = a[swap], a[root]\n",
    "            root = swap"
   ]
  },
  {
   "cell_type": "code",
   "execution_count": 43,
   "metadata": {},
   "outputs": [],
   "source": [
    "def heapsort(a):\n",
    "    count = len(a)\n",
    "    \n",
    "    heapify(a, count)\n",
    "    \n",
    "    end = count - 1\n",
    "    \n",
    "    while end > 0:\n",
    "        a[end], a[0] = a[0], a[end]\n",
    "        end = end - 1\n",
    "        siftDown(a, 0, end)"
   ]
  },
  {
   "cell_type": "code",
   "execution_count": 44,
   "metadata": {},
   "outputs": [
    {
     "data": {
      "text/plain": [
       "[5, 1, 3, 7, 8, 9, 2]"
      ]
     },
     "execution_count": 44,
     "metadata": {},
     "output_type": "execute_result"
    }
   ],
   "source": [
    "L = [5, 1, 3, 7, 8, 9, 2]\n",
    "L"
   ]
  },
  {
   "cell_type": "code",
   "execution_count": 45,
   "metadata": {},
   "outputs": [
    {
     "data": {
      "text/plain": [
       "[1, 2, 3, 5, 7, 8, 9]"
      ]
     },
     "execution_count": 45,
     "metadata": {},
     "output_type": "execute_result"
    }
   ],
   "source": [
    "heapsort(L)\n",
    "L"
   ]
  },
  {
   "cell_type": "code",
   "execution_count": 46,
   "metadata": {},
   "outputs": [
    {
     "name": "stdout",
     "output_type": "stream",
     "text": [
      "(0, 1, 2, 3, 4) --> [0, 1, 2, 3, 4]\n",
      "(0, 1, 2, 4, 3) --> [0, 1, 2, 3, 4]\n",
      "(0, 1, 3, 2, 4) --> [0, 1, 2, 3, 4]\n",
      "(0, 1, 3, 4, 2) --> [0, 1, 2, 3, 4]\n",
      "(0, 1, 4, 2, 3) --> [0, 1, 2, 3, 4]\n",
      "(0, 1, 4, 3, 2) --> [0, 1, 2, 3, 4]\n",
      "(0, 2, 1, 3, 4) --> [0, 1, 2, 3, 4]\n",
      "(0, 2, 1, 4, 3) --> [0, 1, 2, 3, 4]\n",
      "(0, 2, 3, 1, 4) --> [0, 1, 2, 3, 4]\n",
      "(0, 2, 3, 4, 1) --> [0, 1, 2, 3, 4]\n",
      "(0, 2, 4, 1, 3) --> [0, 1, 2, 3, 4]\n",
      "(0, 2, 4, 3, 1) --> [0, 1, 2, 3, 4]\n",
      "(0, 3, 1, 2, 4) --> [0, 1, 2, 3, 4]\n",
      "(0, 3, 1, 4, 2) --> [0, 1, 2, 3, 4]\n",
      "(0, 3, 2, 1, 4) --> [0, 1, 2, 3, 4]\n",
      "(0, 3, 2, 4, 1) --> [0, 1, 2, 3, 4]\n",
      "(0, 3, 4, 1, 2) --> [0, 1, 2, 3, 4]\n",
      "(0, 3, 4, 2, 1) --> [0, 1, 2, 3, 4]\n",
      "(0, 4, 1, 2, 3) --> [0, 1, 2, 3, 4]\n",
      "(0, 4, 1, 3, 2) --> [0, 1, 2, 3, 4]\n",
      "(0, 4, 2, 1, 3) --> [0, 1, 2, 3, 4]\n",
      "(0, 4, 2, 3, 1) --> [0, 1, 2, 3, 4]\n",
      "(0, 4, 3, 1, 2) --> [0, 1, 2, 3, 4]\n",
      "(0, 4, 3, 2, 1) --> [0, 1, 2, 3, 4]\n",
      "(1, 0, 2, 3, 4) --> [0, 1, 2, 3, 4]\n",
      "(1, 0, 2, 4, 3) --> [0, 1, 2, 3, 4]\n",
      "(1, 0, 3, 2, 4) --> [0, 1, 2, 3, 4]\n",
      "(1, 0, 3, 4, 2) --> [0, 1, 2, 3, 4]\n",
      "(1, 0, 4, 2, 3) --> [0, 1, 2, 3, 4]\n",
      "(1, 0, 4, 3, 2) --> [0, 1, 2, 3, 4]\n",
      "(1, 2, 0, 3, 4) --> [0, 1, 2, 3, 4]\n",
      "(1, 2, 0, 4, 3) --> [0, 1, 2, 3, 4]\n",
      "(1, 2, 3, 0, 4) --> [0, 1, 2, 3, 4]\n",
      "(1, 2, 3, 4, 0) --> [0, 1, 2, 3, 4]\n",
      "(1, 2, 4, 0, 3) --> [0, 1, 2, 3, 4]\n",
      "(1, 2, 4, 3, 0) --> [0, 1, 2, 3, 4]\n",
      "(1, 3, 0, 2, 4) --> [0, 1, 2, 3, 4]\n",
      "(1, 3, 0, 4, 2) --> [0, 1, 2, 3, 4]\n",
      "(1, 3, 2, 0, 4) --> [0, 1, 2, 3, 4]\n",
      "(1, 3, 2, 4, 0) --> [0, 1, 2, 3, 4]\n",
      "(1, 3, 4, 0, 2) --> [0, 1, 2, 3, 4]\n",
      "(1, 3, 4, 2, 0) --> [0, 1, 2, 3, 4]\n",
      "(1, 4, 0, 2, 3) --> [0, 1, 2, 3, 4]\n",
      "(1, 4, 0, 3, 2) --> [0, 1, 2, 3, 4]\n",
      "(1, 4, 2, 0, 3) --> [0, 1, 2, 3, 4]\n",
      "(1, 4, 2, 3, 0) --> [0, 1, 2, 3, 4]\n",
      "(1, 4, 3, 0, 2) --> [0, 1, 2, 3, 4]\n",
      "(1, 4, 3, 2, 0) --> [0, 1, 2, 3, 4]\n",
      "(2, 0, 1, 3, 4) --> [0, 1, 2, 3, 4]\n",
      "(2, 0, 1, 4, 3) --> [0, 1, 2, 3, 4]\n",
      "(2, 0, 3, 1, 4) --> [0, 1, 2, 3, 4]\n",
      "(2, 0, 3, 4, 1) --> [0, 1, 2, 3, 4]\n",
      "(2, 0, 4, 1, 3) --> [0, 1, 2, 3, 4]\n",
      "(2, 0, 4, 3, 1) --> [0, 1, 2, 3, 4]\n",
      "(2, 1, 0, 3, 4) --> [0, 1, 2, 3, 4]\n",
      "(2, 1, 0, 4, 3) --> [0, 1, 2, 3, 4]\n",
      "(2, 1, 3, 0, 4) --> [0, 1, 2, 3, 4]\n",
      "(2, 1, 3, 4, 0) --> [0, 1, 2, 3, 4]\n",
      "(2, 1, 4, 0, 3) --> [0, 1, 2, 3, 4]\n",
      "(2, 1, 4, 3, 0) --> [0, 1, 2, 3, 4]\n",
      "(2, 3, 0, 1, 4) --> [0, 1, 2, 3, 4]\n",
      "(2, 3, 0, 4, 1) --> [0, 1, 2, 3, 4]\n",
      "(2, 3, 1, 0, 4) --> [0, 1, 2, 3, 4]\n",
      "(2, 3, 1, 4, 0) --> [0, 1, 2, 3, 4]\n",
      "(2, 3, 4, 0, 1) --> [0, 1, 2, 3, 4]\n",
      "(2, 3, 4, 1, 0) --> [0, 1, 2, 3, 4]\n",
      "(2, 4, 0, 1, 3) --> [0, 1, 2, 3, 4]\n",
      "(2, 4, 0, 3, 1) --> [0, 1, 2, 3, 4]\n",
      "(2, 4, 1, 0, 3) --> [0, 1, 2, 3, 4]\n",
      "(2, 4, 1, 3, 0) --> [0, 1, 2, 3, 4]\n",
      "(2, 4, 3, 0, 1) --> [0, 1, 2, 3, 4]\n",
      "(2, 4, 3, 1, 0) --> [0, 1, 2, 3, 4]\n",
      "(3, 0, 1, 2, 4) --> [0, 1, 2, 3, 4]\n",
      "(3, 0, 1, 4, 2) --> [0, 1, 2, 3, 4]\n",
      "(3, 0, 2, 1, 4) --> [0, 1, 2, 3, 4]\n",
      "(3, 0, 2, 4, 1) --> [0, 1, 2, 3, 4]\n",
      "(3, 0, 4, 1, 2) --> [0, 1, 2, 3, 4]\n",
      "(3, 0, 4, 2, 1) --> [0, 1, 2, 3, 4]\n",
      "(3, 1, 0, 2, 4) --> [0, 1, 2, 3, 4]\n",
      "(3, 1, 0, 4, 2) --> [0, 1, 2, 3, 4]\n",
      "(3, 1, 2, 0, 4) --> [0, 1, 2, 3, 4]\n",
      "(3, 1, 2, 4, 0) --> [0, 1, 2, 3, 4]\n",
      "(3, 1, 4, 0, 2) --> [0, 1, 2, 3, 4]\n",
      "(3, 1, 4, 2, 0) --> [0, 1, 2, 3, 4]\n",
      "(3, 2, 0, 1, 4) --> [0, 1, 2, 3, 4]\n",
      "(3, 2, 0, 4, 1) --> [0, 1, 2, 3, 4]\n",
      "(3, 2, 1, 0, 4) --> [0, 1, 2, 3, 4]\n",
      "(3, 2, 1, 4, 0) --> [0, 1, 2, 3, 4]\n",
      "(3, 2, 4, 0, 1) --> [0, 1, 2, 3, 4]\n",
      "(3, 2, 4, 1, 0) --> [0, 1, 2, 3, 4]\n",
      "(3, 4, 0, 1, 2) --> [0, 1, 2, 3, 4]\n",
      "(3, 4, 0, 2, 1) --> [0, 1, 2, 3, 4]\n",
      "(3, 4, 1, 0, 2) --> [0, 1, 2, 3, 4]\n",
      "(3, 4, 1, 2, 0) --> [0, 1, 2, 3, 4]\n",
      "(3, 4, 2, 0, 1) --> [0, 1, 2, 3, 4]\n",
      "(3, 4, 2, 1, 0) --> [0, 1, 2, 3, 4]\n",
      "(4, 0, 1, 2, 3) --> [0, 1, 2, 3, 4]\n",
      "(4, 0, 1, 3, 2) --> [0, 1, 2, 3, 4]\n",
      "(4, 0, 2, 1, 3) --> [0, 1, 2, 3, 4]\n",
      "(4, 0, 2, 3, 1) --> [0, 1, 2, 3, 4]\n",
      "(4, 0, 3, 1, 2) --> [0, 1, 2, 3, 4]\n",
      "(4, 0, 3, 2, 1) --> [0, 1, 2, 3, 4]\n",
      "(4, 1, 0, 2, 3) --> [0, 1, 2, 3, 4]\n",
      "(4, 1, 0, 3, 2) --> [0, 1, 2, 3, 4]\n",
      "(4, 1, 2, 0, 3) --> [0, 1, 2, 3, 4]\n",
      "(4, 1, 2, 3, 0) --> [0, 1, 2, 3, 4]\n",
      "(4, 1, 3, 0, 2) --> [0, 1, 2, 3, 4]\n",
      "(4, 1, 3, 2, 0) --> [0, 1, 2, 3, 4]\n",
      "(4, 2, 0, 1, 3) --> [0, 1, 2, 3, 4]\n",
      "(4, 2, 0, 3, 1) --> [0, 1, 2, 3, 4]\n",
      "(4, 2, 1, 0, 3) --> [0, 1, 2, 3, 4]\n",
      "(4, 2, 1, 3, 0) --> [0, 1, 2, 3, 4]\n",
      "(4, 2, 3, 0, 1) --> [0, 1, 2, 3, 4]\n",
      "(4, 2, 3, 1, 0) --> [0, 1, 2, 3, 4]\n",
      "(4, 3, 0, 1, 2) --> [0, 1, 2, 3, 4]\n",
      "(4, 3, 0, 2, 1) --> [0, 1, 2, 3, 4]\n",
      "(4, 3, 1, 0, 2) --> [0, 1, 2, 3, 4]\n",
      "(4, 3, 1, 2, 0) --> [0, 1, 2, 3, 4]\n",
      "(4, 3, 2, 0, 1) --> [0, 1, 2, 3, 4]\n",
      "(4, 3, 2, 1, 0) --> [0, 1, 2, 3, 4]\n"
     ]
    }
   ],
   "source": [
    "# gives every way the list can be ordered / premutated\n",
    "import itertools\n",
    "\n",
    "for perm in itertools.permutations(range(5)):\n",
    "    L = list(perm)\n",
    "    heapsort(L)\n",
    "    print(f'{perm} --> {L}')"
   ]
  },
  {
   "cell_type": "markdown",
   "metadata": {},
   "source": [
    "***\n",
    "\n",
    "## End of Notebook"
   ]
  }
 ],
 "metadata": {
  "kernelspec": {
   "display_name": "Python 3",
   "language": "python",
   "name": "python3"
  },
  "language_info": {
   "codemirror_mode": {
    "name": "ipython",
    "version": 3
   },
   "file_extension": ".py",
   "mimetype": "text/x-python",
   "name": "python",
   "nbconvert_exporter": "python",
   "pygments_lexer": "ipython3",
   "version": "3.8.10"
  }
 },
 "nbformat": 4,
 "nbformat_minor": 4
}
